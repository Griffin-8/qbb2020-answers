{
 "cells": [
  {
   "cell_type": "markdown",
   "metadata": {},
   "source": [
    "# Import Library"
   ]
  },
  {
   "cell_type": "code",
   "execution_count": 3,
   "metadata": {},
   "outputs": [],
   "source": [
    "import matplotlib.pyplot as plt"
   ]
  },
  {
   "cell_type": "markdown",
   "metadata": {},
   "source": [
    "# Extract Allele Frequencies"
   ]
  },
  {
   "cell_type": "code",
   "execution_count": 1,
   "metadata": {},
   "outputs": [],
   "source": [
    "fs = open('/Users/cmdb/qbb2020-answers/week3/lab_hw/BYxRM_segs_saccer3.bam.simplified.vcf', 'r')\n",
    "\n",
    "AF_list = []\n",
    "counter = 0\n",
    "for line in fs:\n",
    "    if '#' not in line:\n",
    "        linesplit = line.split('\\t')\n",
    "        for searcher in linesplit:\n",
    "            if 'AF=' in searcher:\n",
    "                if ',' not in searcher:\n",
    "                    AF_list.append(float(searcher[3:]))\n",
    "                else:\n",
    "                    searcher_split = searcher.split(',')\n",
    "                    for z in searcher_split:\n",
    "                        if 'AF=' in z:\n",
    "                            AF_list.append(float(z[3:]))\n",
    "                        else:\n",
    "                            AF_list.append(float(z))\n",
    "\n"
   ]
  },
  {
   "cell_type": "markdown",
   "metadata": {},
   "source": [
    "# Plot Histogram"
   ]
  },
  {
   "cell_type": "code",
   "execution_count": 4,
   "metadata": {},
   "outputs": [
    {
     "data": {
      "image/png": "[encoded data removed]",
      "text/plain": [
       "<Figure size 432x288 with 1 Axes>"
      ]
     },
     "metadata": {
      "needs_background": "light"
     },
     "output_type": "display_data"
    }
   ],
   "source": [
    "fig, ax = plt.subplots()\n",
    "\n",
    "\n",
    "ax.hist(AF_list, bins = 15)\n",
    "\n",
    "ax.set_xlabel('Allelic Frequency')\n",
    "ax.set_ylabel('Counts')\n",
    "ax.set_title('Allele Frequency Spectrum')\n",
    "\n",
    "\n",
    "\n",
    "plt.show()"
   ]
  },
  {
   "cell_type": "code",
   "execution_count": null,
   "metadata": {},
   "outputs": [],
   "source": []
  }
 ],
 "metadata": {
  "kernelspec": {
   "display_name": "Python 3",
   "language": "python",
   "name": "python3"
  },
  "language_info": {
   "codemirror_mode": {
    "name": "ipython",
    "version": 3
   },
   "file_extension": ".py",
   "mimetype": "text/x-python",
   "name": "python",
   "nbconvert_exporter": "python",
   "pygments_lexer": "ipython3",
   "version": "3.6.10"
  }
 },
 "nbformat": 4,
 "nbformat_minor": 4
}
