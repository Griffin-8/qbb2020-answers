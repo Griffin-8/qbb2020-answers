{
 "cells": [
  {
   "cell_type": "code",
   "execution_count": null,
   "metadata": {},
   "outputs": [],
   "source": [
    "%%bash\n",
    "plink \\\n",
    "  --vcf /Users/cmdb/qbb2020-answers/week3/lab_hw/BYxRM_segs_saccer3.bam.simplified.vcf \\\n",
    "  --pheno /Users/cmdb/qbb2020-answers/week3/lab_hw/BYxRM_PhenoData_parsed.txt \\\n",
    "  --linear \\\n",
    "  --allow-no-sex \\\n",
    "  --allow-extra-chr \\\n",
    "  --covar plink.eigenvec \\\n",
    "  --covar-number 1-10 \\\n",
    "  --all-pheno\n"
   ]
  }
 ],
 "metadata": {
  "kernelspec": {
   "display_name": "Python 3",
   "language": "python",
   "name": "python3"
  },
  "language_info": {
   "codemirror_mode": {
    "name": "ipython",
    "version": 3
   },
   "file_extension": ".py",
   "mimetype": "text/x-python",
   "name": "python",
   "nbconvert_exporter": "python",
   "pygments_lexer": "ipython3",
   "version": "3.6.10"
  }
 },
 "nbformat": 4,
 "nbformat_minor": 4
}
