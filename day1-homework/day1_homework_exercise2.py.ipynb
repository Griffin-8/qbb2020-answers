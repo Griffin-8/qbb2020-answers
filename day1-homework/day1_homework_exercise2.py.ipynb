{
 "cells": [
  {
   "cell_type": "code",
   "execution_count": 13,
   "metadata": {},
   "outputs": [
    {
     "name": "stdout",
     "output_type": "stream",
     "text": [
      "1702765\n"
     ]
    }
   ],
   "source": [
    "fs = open('/Users/cmdb/data/results/SRR072893.sam')\n",
    "perfect_alignments = 0\n",
    "for line in fs:\n",
    "    fields = line.strip('\\n\\r').split('\\t')\n",
    "    if 'NM:i:0' in fields:\n",
    "        perfect_alignments += 1\n",
    "    \n",
    "\n",
    "fs.close()\n",
    "\n",
    "print(perfect_alignments)\n",
    "        \n",
    "    \n"
   ]
  },
  {
   "cell_type": "code",
   "execution_count": null,
   "metadata": {},
   "outputs": [],
   "source": [
    "fs.close()"
   ]
  },
  {
   "cell_type": "code",
   "execution_count": null,
   "metadata": {},
   "outputs": [],
   "source": [
    " if str('HO:i') in fields:\n",
    "        perfect_alignments += 1"
   ]
  }
 ],
 "metadata": {
  "kernelspec": {
   "display_name": "Python 3",
   "language": "python",
   "name": "python3"
  },
  "language_info": {
   "codemirror_mode": {
    "name": "ipython",
    "version": 3
   },
   "file_extension": ".py",
   "mimetype": "text/x-python",
   "name": "python",
   "nbconvert_exporter": "python",
   "pygments_lexer": "ipython3",
   "version": "3.6.10"
  }
 },
 "nbformat": 4,
 "nbformat_minor": 4
}
