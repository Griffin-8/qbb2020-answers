{
 "cells": [
  {
   "cell_type": "code",
   "execution_count": 7,
   "metadata": {},
   "outputs": [
    {
     "name": "stdout",
     "output_type": "stream",
     "text": [
      "59.6407825\n"
     ]
    }
   ],
   "source": [
    "fs = open('/Users/cmdb/data/results/SRR072893.sam')\n",
    "Sum_MAPQ = 0\n",
    "counter = 0\n",
    "for line in fs:\n",
    "    counter += 1\n",
    "    fields = line.strip('\\n\\r').split('\\t')\n",
    "    MAPQ = int(fields[4])\n",
    "    Sum_MAPQ = MAPQ + Sum_MAPQ\n",
    "    \n",
    "Avg_MAPQ = Sum_MAPQ/counter\n",
    "\n",
    "    \n",
    "\n",
    "fs.close()\n",
    "\n",
    "print(Avg_MAPQ)"
   ]
  },
  {
   "cell_type": "code",
   "execution_count": null,
   "metadata": {},
   "outputs": [],
   "source": []
  }
 ],
 "metadata": {
  "kernelspec": {
   "display_name": "Python 3",
   "language": "python",
   "name": "python3"
  },
  "language_info": {
   "codemirror_mode": {
    "name": "ipython",
    "version": 3
   },
   "file_extension": ".py",
   "mimetype": "text/x-python",
   "name": "python",
   "nbconvert_exporter": "python",
   "pygments_lexer": "ipython3",
   "version": "3.6.10"
  }
 },
 "nbformat": 4,
 "nbformat_minor": 4
}
