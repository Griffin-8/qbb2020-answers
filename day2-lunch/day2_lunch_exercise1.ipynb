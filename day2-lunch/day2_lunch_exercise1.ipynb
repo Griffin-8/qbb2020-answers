{
 "cells": [
  {
   "cell_type": "code",
   "execution_count": 1,
   "metadata": {},
   "outputs": [],
   "source": [
    "open_file = open('our_filepath.txt', 'w') # r , w , a , read, write , append\n",
    "\n",
    "open_file.write(\"This file isnt empty anymore\")\n",
    "#open_file.write(\"here's another line\") this would lead to one string on one line\n",
    "# need to at \\n to the end of the first line\n",
    "open_file.close()"
   ]
  },
  {
   "cell_type": "code",
   "execution_count": 22,
   "metadata": {},
   "outputs": [],
   "source": [
    "open_file = open('/Users/cmdb/qbb2020-answers/day2-lunch/fly.txt')\n",
    "write_file = open('/Users/cmdb/qbb2020-answers/day2-lunch/parsed_mapping_file_2.txt' , 'w')\n",
    "counter = 0\n",
    "for line in open_file: #less -S to open in terminal   \n",
    "    fly = list(line.strip().split()) # removed \\n and \\t to solve an index error\n",
    "    if 'DROME' not in line: # need columns 2(uniprot) 3(flyBase)\n",
    "        continue\n",
    "    if len(fly) > 3:\n",
    "        Uniprot = fly[2]\n",
    "        flybase = fly[3]\n",
    "        string = flybase + '\\t' + Uniprot + '\\n'\n",
    "        counter +=1\n",
    "        if counter > 100:\n",
    "            break\n",
    "        write_file.write(string)\n",
    "        \n",
    "open_file.close()\n",
    "write_file.close()\n",
    "\n",
    "        \n",
    "\n",
    "\n",
    "\n",
    "\n",
    "  \n",
    "        \n",
    "\n",
    "\n",
    "    \n",
    "\n"
   ]
  },
  {
   "cell_type": "code",
   "execution_count": null,
   "metadata": {},
   "outputs": [],
   "source": []
  },
  {
   "cell_type": "code",
   "execution_count": null,
   "metadata": {},
   "outputs": [],
   "source": []
  }
 ],
 "metadata": {
  "kernelspec": {
   "display_name": "Python 3",
   "language": "python",
   "name": "python3"
  },
  "language_info": {
   "codemirror_mode": {
    "name": "ipython",
    "version": 3
   },
   "file_extension": ".py",
   "mimetype": "text/x-python",
   "name": "python",
   "nbconvert_exporter": "python",
   "pygments_lexer": "ipython3",
   "version": "3.6.10"
  }
 },
 "nbformat": 4,
 "nbformat_minor": 4
}
